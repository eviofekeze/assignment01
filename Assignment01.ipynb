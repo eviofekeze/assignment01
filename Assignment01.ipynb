{
  "cells": [
    {
      "cell_type": "markdown",
      "metadata": {
        "id": "CzqrKbHDRpKs"
      },
      "source": [
        "# **Homework 1**\n",
        "**Data Analysis and Geostatistics, Fall 2023**\n",
        "**August 20, 2024**\n",
        "\n",
        "**Overview and dataset**\n",
        "\n",
        "Download the two snow depth datasets from the Canvas website, in the folder ’HW1’. The datasets are in ascii files called\n",
        "_GMdepths1.txt_ and *GMdepths2.txt*. They are snow depths, in centimeters, measured at two different locations, on the same\n",
        "date. This homework will review basic statistical descriptions of these two datasets"
      ]
    },
    {
      "cell_type": "code",
      "execution_count": 1,
      "metadata": {
        "id": "rl_WP_1Ptiqt"
      },
      "outputs": [],
      "source": [
        "# Basic Import\n",
        "\n",
        "import numpy as np\n",
        "import pandas as pd\n",
        "from scipy import stats\n",
        "import matplotlib.pyplot as plt"
      ]
    },
    {
      "cell_type": "code",
      "execution_count": null,
      "metadata": {
        "colab": {
          "base_uri": "https://localhost:8080/"
        },
        "id": "D2HNecQQLBdT",
        "outputId": "8eb876d7-8f39-4a07-a96c-6266478c627e"
      },
      "outputs": [
        {
          "name": "stdout",
          "output_type": "stream",
          "text": [
            "Mounted at /content/drive\n"
          ]
        }
      ],
      "source": [
        "# Uncomment the following cell if working with google collab\n",
        "\n",
        "# from google.colab import drive\n",
        "# drive.mount('/content/drive')"
      ]
    },
    {
      "cell_type": "markdown",
      "metadata": {
        "id": "tdSYtjJDRk_s"
      },
      "source": [
        "## **Loading the Data**\n"
      ]
    },
    {
      "cell_type": "code",
      "execution_count": 2,
      "metadata": {
        "colab": {
          "base_uri": "https://localhost:8080/"
        },
        "id": "o575ho7Qt1kZ",
        "outputId": "5fda9f53-e792-425d-d185-11098b5c83e2"
      },
      "outputs": [],
      "source": [
        "# Write Code below this line \n",
        "# -------------------------------------------------------------------\n",
        "\n"
      ]
    },
    {
      "cell_type": "markdown",
      "metadata": {
        "id": "0bW7ReJzzuAm"
      },
      "source": [
        "## **Descriptive Analysis**"
      ]
    },
    {
      "cell_type": "markdown",
      "metadata": {
        "id": "bJBqwpuF0Gq_"
      },
      "source": [
        "### **Question 1**\n",
        "For each dataset, calculate and report the mean and standard deviation."
      ]
    },
    {
      "cell_type": "code",
      "execution_count": 3,
      "metadata": {
        "colab": {
          "base_uri": "https://localhost:8080/"
        },
        "id": "VkOt7XoWtlK7",
        "outputId": "a6308bc2-8f59-4b8a-9359-9c6f672157f2"
      },
      "outputs": [],
      "source": [
        "# Write Code for mean below this line \n",
        "# -------------------------------------------------------------------\n",
        "\n"
      ]
    },
    {
      "cell_type": "code",
      "execution_count": 4,
      "metadata": {
        "colab": {
          "base_uri": "https://localhost:8080/"
        },
        "id": "U7kqV0vUtlQd",
        "outputId": "ee939cd2-1e5a-4fc1-922c-138daf9caaed"
      },
      "outputs": [],
      "source": [
        "# Write Code for standard deviation below this line \n",
        "# -------------------------------------------------------------------\n"
      ]
    },
    {
      "cell_type": "code",
      "execution_count": null,
      "metadata": {},
      "outputs": [],
      "source": []
    },
    {
      "cell_type": "markdown",
      "metadata": {
        "id": "pLmwA7ET0LEe"
      },
      "source": [
        "### **Question 2**\n",
        "For each dataset, calculate and report the median, mode, IQR, skewness, and kurtosis."
      ]
    },
    {
      "cell_type": "code",
      "execution_count": 5,
      "metadata": {
        "colab": {
          "base_uri": "https://localhost:8080/"
        },
        "id": "QiTiIe-JtlTF",
        "outputId": "476ba53a-04a9-4e79-cba1-50fced986251"
      },
      "outputs": [],
      "source": [
        "# Write Code for median below this line \n",
        "# -------------------------------------------------------------------\n",
        "\n"
      ]
    },
    {
      "cell_type": "code",
      "execution_count": 6,
      "metadata": {
        "colab": {
          "base_uri": "https://localhost:8080/"
        },
        "id": "BwPyZiz0tlVs",
        "outputId": "d3b14729-0da9-4aab-9e9e-110a7255f096"
      },
      "outputs": [],
      "source": [
        "# Write Code for mode below this line \n",
        "# -------------------------------------------------------------------\n",
        "\n"
      ]
    },
    {
      "cell_type": "code",
      "execution_count": 7,
      "metadata": {
        "colab": {
          "base_uri": "https://localhost:8080/"
        },
        "id": "OTsPHhygtlYJ",
        "outputId": "5a993313-3342-4831-9614-a4d3cf572c48"
      },
      "outputs": [],
      "source": [
        "# Write Code for IQR below this line \n",
        "# -------------------------------------------------------------------\n",
        "\n"
      ]
    },
    {
      "cell_type": "code",
      "execution_count": 8,
      "metadata": {
        "colab": {
          "base_uri": "https://localhost:8080/"
        },
        "id": "ejkVXgOrtlao",
        "outputId": "3da2543a-2249-4705-8fc7-f0a4c5340d12"
      },
      "outputs": [],
      "source": [
        "# Write Code for Skewness below this line \n",
        "# -------------------------------------------------------------------\n",
        "\n"
      ]
    },
    {
      "cell_type": "code",
      "execution_count": 9,
      "metadata": {
        "colab": {
          "base_uri": "https://localhost:8080/"
        },
        "id": "Xargj9PLtldl",
        "outputId": "010060fe-ff8e-40f5-f925-0b9791449f39"
      },
      "outputs": [],
      "source": [
        "# Write Code for Kurtosis below this line \n",
        "# -------------------------------------------------------------------\n",
        "\n"
      ]
    },
    {
      "cell_type": "markdown",
      "metadata": {
        "id": "_H35h1z72DRd"
      },
      "source": [
        "## **Visualization**\n",
        "\n",
        "### **Question 3**\n",
        "\n",
        "For each dataset, create a boxplot."
      ]
    },
    {
      "cell_type": "code",
      "execution_count": 10,
      "metadata": {
        "colab": {
          "base_uri": "https://localhost:8080/"
        },
        "id": "Ig249g1jz2sH",
        "outputId": "f727c3cf-ee2c-4a7b-8abd-e2e7f4ebf1c1"
      },
      "outputs": [],
      "source": [
        "# Write Code for Plots below this line \n",
        "# -------------------------------------------------------------------\n"
      ]
    },
    {
      "cell_type": "markdown",
      "metadata": {
        "id": "mrjq_geyHm8H"
      },
      "source": [
        "### **Question 4**\n",
        "Create a histogram of each dataset, using 30 bins"
      ]
    },
    {
      "cell_type": "code",
      "execution_count": 11,
      "metadata": {
        "colab": {
          "base_uri": "https://localhost:8080/"
        },
        "id": "OOJIJB8L2B3K",
        "outputId": "a232c7fe-1a8f-4c90-d027-ba299d2bf91a"
      },
      "outputs": [],
      "source": [
        "# Write Code for Histogram below this line \n",
        "# -------------------------------------------------------------------\n",
        "\n"
      ]
    },
    {
      "cell_type": "markdown",
      "metadata": {
        "id": "miyU-00gOOVL"
      },
      "source": [
        "### **Question 5**\n",
        "\n",
        "Using the `plt.subplot` method (Python) or the `subplot.m` function (Matlab), create one figure showing all 4 plots\n",
        "from above (i.e., 3 & 4)"
      ]
    },
    {
      "cell_type": "code",
      "execution_count": 12,
      "metadata": {
        "colab": {
          "base_uri": "https://localhost:8080/",
          "height": 607
        },
        "id": "41A1uNDc2B6L",
        "outputId": "50d22609-509d-4599-dfea-d27071f98945"
      },
      "outputs": [],
      "source": [
        "\n",
        "# Write Code for plot below this line \n",
        "# -------------------------------------------------------------------\n",
        "\n",
        "\n"
      ]
    },
    {
      "cell_type": "markdown",
      "metadata": {
        "id": "v_4P5psXO7ks"
      },
      "source": [
        "### **Question 6**\n",
        "Set the axis limits to the same range of values for all 4 plots."
      ]
    },
    {
      "cell_type": "code",
      "execution_count": 13,
      "metadata": {
        "colab": {
          "base_uri": "https://localhost:8080/",
          "height": 607
        },
        "id": "2-bMAXPL2B8i",
        "outputId": "c4793239-d02a-4213-bcdf-1c5bbbaf9966"
      },
      "outputs": [],
      "source": [
        "\n",
        "# Write Code for plot below this line \n",
        "# -------------------------------------------------------------------\n",
        "\n"
      ]
    },
    {
      "cell_type": "markdown",
      "metadata": {
        "id": "vjRwAoYbQ5w3"
      },
      "source": [
        "### **Question 7**\n",
        "\n",
        "A more useful histogram is a relative density histogram, which is normalized such that the area of the histogram is\n",
        "equal to 1. Calculate the histogram, normalize it, and plot the relative density histogram for each dataset."
      ]
    },
    {
      "cell_type": "code",
      "execution_count": 14,
      "metadata": {
        "colab": {
          "base_uri": "https://localhost:8080/",
          "height": 607
        },
        "id": "R-gE_bQa2CBp",
        "outputId": "d71fb61f-a4cf-46aa-9a3e-412192942db5"
      },
      "outputs": [],
      "source": [
        "\n",
        "# Write Code for RDH below this line \n",
        "# -------------------------------------------------------------------\n",
        "\n"
      ]
    },
    {
      "cell_type": "markdown",
      "metadata": {
        "id": "PZvtxqX8T7Ae"
      },
      "source": [
        "### **Question 8**\n",
        "The Gaussian (normal) distribution has the form:\n",
        "\n",
        "$$f(z;\\mu, \\sigma^2) = \\frac{1}{\\sigma\\sqrt{2\\pi}}e^{-\\frac{(z-\\mu)^2}{2\\sigma^2}}$$\n",
        "\n",
        "for mean $\\mu$ and standard deviation $\\sigma$. Using your calculated mean and standard deviation from above, calculate the\n",
        "normal distribution curve and plot it with a thick red line on your relative density histograms above."
      ]
    },
    {
      "cell_type": "code",
      "execution_count": null,
      "metadata": {
        "id": "UoU45v82WHGh"
      },
      "outputs": [],
      "source": [
        "# Write Code for Guasian distribution below this line \n",
        "# -------------------------------------------------------------------\n"
      ]
    },
    {
      "cell_type": "code",
      "execution_count": 18,
      "metadata": {
        "colab": {
          "base_uri": "https://localhost:8080/",
          "height": 407
        },
        "id": "Yr1uEtOMZ2xw",
        "outputId": "21bdb6ad-c2cf-43f3-a548-c994b54e7b5a"
      },
      "outputs": [],
      "source": [
        "# Write Code for Guasian distribution and RDH below this line \n",
        "# -------------------------------------------------------------------\n"
      ]
    },
    {
      "cell_type": "markdown",
      "metadata": {
        "id": "J0eEIeY8RNwY"
      },
      "source": [
        "## **Probabilities**"
      ]
    },
    {
      "cell_type": "markdown",
      "metadata": {
        "id": "phVGi1HqT7DH"
      },
      "source": [
        "### **Question 9**\n",
        "What is the probability of a new measurement at each site being within 20cm of the average value?"
      ]
    },
    {
      "cell_type": "code",
      "execution_count": 15,
      "metadata": {
        "colab": {
          "base_uri": "https://localhost:8080/",
          "height": 125
        },
        "id": "O-V_y2yUUMlO",
        "outputId": "e619442c-b6be-4268-dbe4-927f144f2cbe"
      },
      "outputs": [],
      "source": [
        "# Write Code below this line \n",
        "# -------------------------------------------------------------------\n",
        "\n",
        "\n"
      ]
    },
    {
      "cell_type": "markdown",
      "metadata": {
        "id": "9qEtiRgQT7Jk"
      },
      "source": [
        "### **Question 10**\n",
        "What is the probability of a new measurement at each site being at least 20cm larger than the average value?"
      ]
    },
    {
      "cell_type": "code",
      "execution_count": 16,
      "metadata": {
        "colab": {
          "base_uri": "https://localhost:8080/",
          "height": 125
        },
        "id": "Sa5eH9lyOCVR",
        "outputId": "5bd9f6da-6e50-496f-c5af-a488e5d6f7c7"
      },
      "outputs": [],
      "source": [
        "# Write Code below this line \n",
        "# -------------------------------------------------------------------\n",
        "\n"
      ]
    },
    {
      "cell_type": "markdown",
      "metadata": {
        "id": "iPBzG1IeUi4U"
      },
      "source": [
        "### **Question 11**\n",
        "What is the probability of a new measurement at each site being at least 20cm smaller than the average value?"
      ]
    },
    {
      "cell_type": "code",
      "execution_count": 17,
      "metadata": {
        "colab": {
          "base_uri": "https://localhost:8080/",
          "height": 125
        },
        "id": "Ma7Tk5mdUwCM",
        "outputId": "584ef275-23a4-49c0-c813-31174e2de4d5"
      },
      "outputs": [],
      "source": [
        "# Write Code below this line \n",
        "# -------------------------------------------------------------------\n",
        "\n"
      ]
    }
  ],
  "metadata": {
    "colab": {
      "collapsed_sections": [
        "bJBqwpuF0Gq_",
        "pLmwA7ET0LEe",
        "_H35h1z72DRd",
        "mrjq_geyHm8H"
      ],
      "provenance": [],
      "toc_visible": true
    },
    "kernelspec": {
      "display_name": "Python 3",
      "name": "python3"
    },
    "language_info": {
      "codemirror_mode": {
        "name": "ipython",
        "version": 3
      },
      "file_extension": ".py",
      "mimetype": "text/x-python",
      "name": "python",
      "nbconvert_exporter": "python",
      "pygments_lexer": "ipython3",
      "version": "3.9.13"
    }
  },
  "nbformat": 4,
  "nbformat_minor": 0
}
